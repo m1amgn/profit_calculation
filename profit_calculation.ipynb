{
 "cells": [
  {
   "cell_type": "code",
   "execution_count": null,
   "id": "bf0ee6b9",
   "metadata": {},
   "outputs": [],
   "source": [
    "import pandas as pd\n",
    "pd.set_option('display.max_rows', None)\n",
    "pd.set_option('display.max_columns', None)\n",
    "pd.set_option('display.width', None)\n",
    "pd.set_option('display.max_colwidth', None)"
   ]
  },
  {
   "cell_type": "code",
   "execution_count": null,
   "id": "b9ae1268",
   "metadata": {},
   "outputs": [],
   "source": [
    "df_sber = pd.read_excel(\"\", engine=\"openpyxl\")\n",
    "df_alfa = pd.read_excel(\"\", engine=\"xlrd\")"
   ]
  },
  {
   "cell_type": "code",
   "execution_count": null,
   "id": "37374385",
   "metadata": {},
   "outputs": [],
   "source": [
    "df_sber"
   ]
  },
  {
   "cell_type": "code",
   "execution_count": null,
   "id": "1c307d60",
   "metadata": {},
   "outputs": [],
   "source": [
    "df_alfa"
   ]
  },
  {
   "cell_type": "markdown",
   "id": "51a54756",
   "metadata": {},
   "source": [
    "# PROFIT CALCULATION\n",
    "# --------------------------------------------------------------------------"
   ]
  },
  {
   "cell_type": "markdown",
   "id": "4b017da2-a0a3-4c43-8c91-255a28c974a5",
   "metadata": {},
   "source": [
    "# INCOMES"
   ]
  },
  {
   "cell_type": "code",
   "execution_count": null,
   "id": "7c27359e",
   "metadata": {},
   "outputs": [],
   "source": [
    "income_df_sber = df_sber.loc[\n",
    "    (df_sber[\"Credit\"].notna()) &\n",
    "    (~df_sber[\"From\"].str.contains(\"\")) & # Deposits\n",
    "]\n",
    "# income_df_sber\n",
    "income_df_sber = income_df_sber[\"Credit\"].sum()\n",
    "print(income_df_sber)"
   ]
  },
  {
   "cell_type": "code",
   "execution_count": null,
   "id": "40714902",
   "metadata": {},
   "outputs": [],
   "source": [
    "income_df_alfa = df_alfa.loc[\n",
    "    (df_alfa[\"Credit\"].notna()) &\n",
    "    (df_alfa[\"INN\"] != \"\") # Deposits\n",
    "]\n",
    "# income_df_alfa\n",
    "income_df_alfa = income_df_alfa[\"Credit\"].sum()\n",
    "print(income_df_alfa)"
   ]
  },
  {
   "cell_type": "code",
   "execution_count": null,
   "id": "efd0f9f7-359a-4fb4-bff5-71088eed2e89",
   "metadata": {},
   "outputs": [],
   "source": [
    "income = income_df_sber + income_df_alfa"
   ]
  },
  {
   "cell_type": "markdown",
   "id": "003f96cd",
   "metadata": {},
   "source": [
    "# Include Sber:"
   ]
  },
  {
   "cell_type": "code",
   "execution_count": null,
   "id": "bac800f3",
   "metadata": {},
   "outputs": [],
   "source": [
    "income_sber_sales = income_df_sber.loc[\n",
    "    (income_df_sber[\"From\"].str.contains(\"\")) # Contragents\n",
    "]\n",
    "income_sber_sales = income_sber_sales[\"Credit\"].sum()\n",
    "print(income_sber_sales)"
   ]
  },
  {
   "cell_type": "code",
   "execution_count": null,
   "id": "d03355d6",
   "metadata": {},
   "outputs": [],
   "source": [
    "percents_deposit_sber = income_df_sber.loc[\n",
    "    (income_df_sber[\"From\"].str.contains(\"\")) # Deposit accounts\n",
    "]\n",
    "percents_deposit_sber = percents_deposit_sber[\"Credit\"].sum()\n",
    "print(percents_deposit_sber)"
   ]
  },
  {
   "cell_type": "code",
   "execution_count": null,
   "id": "7d8bd297",
   "metadata": {},
   "outputs": [],
   "source": [
    "refunds_sber = income_df_sber.loc[\n",
    "    (income_df_sber[\"From\"].str.contains(\"\")) # Contragents\n",
    "]\n",
    "refunds_sber = refunds_sber[\"Credit\"].sum()\n",
    "print(refunds_sber)"
   ]
  },
  {
   "cell_type": "code",
   "execution_count": null,
   "id": "4cfd6828-0fe7-4255-8a96-ec5f45453ecd",
   "metadata": {},
   "outputs": [],
   "source": [
    "income_sber = income_sber_sales + percents_deposit_sber + refunds_sber"
   ]
  },
  {
   "cell_type": "markdown",
   "id": "d6e88af9",
   "metadata": {},
   "source": [
    "# Include Alfa:"
   ]
  },
  {
   "cell_type": "code",
   "execution_count": null,
   "id": "4e59e052",
   "metadata": {},
   "outputs": [],
   "source": [
    "income_alfa_sales = income_df_alfa.loc[\n",
    "    (income_df_alfa[\"INN\"] == \"\") # Contragents\n",
    "]\n",
    "income_alfa_sales = income_alfa_sales[\"Credit\"].sum()\n",
    "print(income_alfa_sales)"
   ]
  },
  {
   "cell_type": "code",
   "execution_count": null,
   "id": "68feaf63",
   "metadata": {},
   "outputs": [],
   "source": [
    "percents_deposit_alfa = income_df_alfa.loc[\n",
    "    (income_df_alfa[\"INN\"] == \"\") & # Deposit accounts\n",
    "    (~income_df_alfa[\"Payment\"].str.contains(\"Others\"))\n",
    "]\n",
    "percents_deposit_alfa = percents_deposit_alfa[\"Credit\"].sum()\n",
    "print(percents_deposit_alfa)"
   ]
  },
  {
   "cell_type": "markdown",
   "id": "4fae75ec",
   "metadata": {},
   "source": [
    "# ---------------------------------------------------------------------------\n",
    "# COSTS"
   ]
  },
  {
   "cell_type": "code",
   "execution_count": null,
   "id": "814c6566",
   "metadata": {},
   "outputs": [],
   "source": [
    "costs_df_sber = df_sber.loc[\n",
    "    (df_sber[\"Debet\"].notna()) &\n",
    "    (~df_sber[\"To\"].str.contains(\"\")) & # Deposits\n",
    "]\n",
    "# costs_df_sber\n",
    "costs_df_sber = costs_df_sber[\"Debet\"].sum()\n",
    "print(costs_df_sber)"
   ]
  },
  {
   "cell_type": "code",
   "execution_count": null,
   "id": "50512e8b",
   "metadata": {},
   "outputs": [],
   "source": [
    "costs_df_alfa = df_alfa.loc[\n",
    "    (df_alfa[\"Debet\"].notna()) &\n",
    "    (df_alfa[\"INN\"] != \"\") # Deposits\n",
    "]\n",
    "# costs_df_alfa\n",
    "costs_df_alfa = costs_df_alfa[\"Debet\"].sum()\n",
    "print(costs_df_alfa)"
   ]
  },
  {
   "cell_type": "code",
   "execution_count": null,
   "id": "a05a7732-5c51-4a3c-ab4f-b790d9be7329",
   "metadata": {},
   "outputs": [],
   "source": [
    "costs = costs_df_sber + costs_df_alfa"
   ]
  },
  {
   "cell_type": "markdown",
   "id": "0a5fa88e",
   "metadata": {},
   "source": [
    "# Include Sber:"
   ]
  },
  {
   "cell_type": "code",
   "execution_count": null,
   "id": "9adc5434",
   "metadata": {},
   "outputs": [],
   "source": [
    "costs_sber_raw_materials = costs_df_sber.loc[\n",
    "    (costs_df_sber[\"To\"].str.contains(\"\")) | # Contragents\n",
    "    (costs_df_sber[\"To\"].str.contains(\"\"))\n",
    "]\n",
    "# costs_sber_raw_materials\n",
    "costs_sber_raw_materials = costs_sber_raw_materials[\"Debet\"].sum()\n",
    "print(costs_sber_raw_materials)"
   ]
  },
  {
   "cell_type": "code",
   "execution_count": null,
   "id": "1f49005e",
   "metadata": {},
   "outputs": [],
   "source": [
    "costs_sber_transports = costs_df_sber.loc[\n",
    "    (costs_df_sber[\"To\"].str.contains(\"\")) | # Contragents\n",
    "    (costs_df_sber[\"To\"].str.contains(\"\"))\n",
    "]\n",
    "# costs_sber_transports\n",
    "costs_sber_transports = costs_sber_transports[\"Debet\"].sum()\n",
    "print(costs_sber_transports)"
   ]
  },
  {
   "cell_type": "code",
   "execution_count": null,
   "id": "886fedca",
   "metadata": {},
   "outputs": [],
   "source": [
    "costs_sber_legal = costs_df_sber.loc[\n",
    "    (costs_df_sber[\"To\"].str.contains(\"\")) | # Contragents\n",
    "    (costs_df_sber[\"To\"].str.contains(\"\"))\n",
    "]\n",
    "# costs_sber_legal\n",
    "costs_sber_legal = costs_sber_legal[\"Debet\"].sum()\n",
    "print(costs_sber_legal)"
   ]
  },
  {
   "cell_type": "code",
   "execution_count": null,
   "id": "728b25e4",
   "metadata": {},
   "outputs": [],
   "source": [
    "costs_sber_utility_bils = costs_df_sber.loc[\n",
    "    (costs_df_sber[\"To\"].str.contains(\"\")) | # Contragents\n",
    "    (costs_df_sber[\"To\"].str.contains(\"\"))\n",
    "]\n",
    "# costs_sber_utility_bils\n",
    "costs_sber_utility_bils = costs_sber_utility_bils[\"Debet\"].sum()\n",
    "print(costs_sber_legal)"
   ]
  },
  {
   "cell_type": "code",
   "execution_count": null,
   "id": "b147e7c3",
   "metadata": {},
   "outputs": [],
   "source": [
    "costs_sber_taxes = costs_df_sber.loc[\n",
    "    (costs_df_sber[\"To\"].str.contains(\"\")) | # Accounts\n",
    "    (costs_df_sber[\"To\"].str.contains(\"\"))\n",
    "]\n",
    "# costs_sber_taxes\n",
    "costs_sber_taxes = costs_sber_taxes[\"Debet\"].sum()\n",
    "print(costs_sber_taxes)"
   ]
  },
  {
   "cell_type": "code",
   "execution_count": null,
   "id": "1351a694",
   "metadata": {},
   "outputs": [],
   "source": [
    "costs_sber_salaries = costs_df_sber.loc[\n",
    "    (costs_df_sber[\"To\"].str.contains(\"\")) | # Accounts\n",
    "    (costs_df_sber[\"To\"].str.contains(\"\"))\n",
    "]\n",
    "# costs_sber_salaries\n",
    "costs_sber_salaries = costs_sber_salaries[\"Debet\"].sum()\n",
    "print(costs_sber_salaries)"
   ]
  },
  {
   "cell_type": "code",
   "execution_count": null,
   "id": "0090e334-a1e2-40fb-b267-40e4c01643d8",
   "metadata": {},
   "outputs": [],
   "source": [
    "costs_sber_others = costs_df_sber.loc[\n",
    "    (~costs_df_sber[\"To\"].str.contains(\"\")) | # Exclude above costs\n",
    "    (~costs_df_sber[\"To\"].str.contains(\"\")) |\n",
    "    (~costs_df_sber[\"To\"].str.contains(\"\"))\n",
    "    ...\n",
    "]\n",
    "# costs_sber_others\n",
    "costs_sber_others = costs_sber_others[\"Debet\"].sum()\n",
    "print(costs_sber_others)"
   ]
  },
  {
   "cell_type": "markdown",
   "id": "b3eeb8d7",
   "metadata": {},
   "source": [
    "# Include Alfa:"
   ]
  },
  {
   "cell_type": "code",
   "execution_count": null,
   "id": "586cfb36",
   "metadata": {},
   "outputs": [],
   "source": [
    "costs_alfa_raw_materials = costs_df_alfa.loc[\n",
    "    (costs_df_alfa[\"INN\"] == \"\") # Contragents\n",
    "# costs_alfa_raw_materials\n",
    "costs_alfa_raw_materials = costs_alfa_raw_materials[\"Credit\"].sum()\n",
    "print(costs_alfa_raw_materials)"
   ]
  },
  {
   "cell_type": "code",
   "execution_count": null,
   "id": "fb507048",
   "metadata": {},
   "outputs": [],
   "source": [
    "costs_alfa_others = costs_df_alfa.loc[\n",
    "    (costs_df_alfa[\"INN\"] == \"\") & # Exclude above costs\n",
    "    (costs_df_alfa[\"INN\"] == \"\")\n",
    "]\n",
    "# costs_alfa_others\n",
    "costs_alfa_others = costs_alfa_others[\"Credit\"].sum()\n",
    "print(costs_alfa_others)"
   ]
  },
  {
   "cell_type": "markdown",
   "id": "f7e533cf",
   "metadata": {},
   "source": [
    "# ---------------------------------------------------------------------------\n",
    "# Deposit"
   ]
  },
  {
   "cell_type": "code",
   "execution_count": null,
   "id": "a3739a27",
   "metadata": {},
   "outputs": [],
   "source": [
    "# Deposited\n",
    "dep_debet_sber = df_sber.loc[\n",
    "    (df_sber[\"To\"].str.contains(\"\")) & # My account or special bank account\n",
    "    (df_sber[\"Debet\"].notna()) &\n",
    "    (~df_sber[\"Payment\"].str.contains(\"Others\"))\n",
    "]\n",
    "# dep_debet_sber\n",
    "dep_debet_sber = dep_debet_sber[\"Debet\"].sum()\n",
    "print(dep_debet_sber)"
   ]
  },
  {
   "cell_type": "code",
   "execution_count": null,
   "id": "12e2fcbf",
   "metadata": {},
   "outputs": [],
   "source": [
    "# Refunds\n",
    "dep_credit_sber = df_sber.loc[\n",
    "    (df_sber[\"From\"].str.contains(\"\")) & # My account or special bank account\n",
    "    (df_sber[\"Credit\"].notna()) &\n",
    "    (~df_sber[\"Payment\"].str.contains(\"Others\"))\n",
    "]\n",
    "# dep_debet_sber\n",
    "dep_credit_sber = dep_credit_sber[\"Credit\"].sum()\n",
    "print(dep_credit_sber)"
   ]
  },
  {
   "cell_type": "code",
   "execution_count": null,
   "id": "31faaa0e",
   "metadata": {},
   "outputs": [],
   "source": [
    "in_deposit = dep_debet_sber - dep_credit_sber"
   ]
  }
 ],
 "metadata": {
  "kernelspec": {
   "display_name": "Python 3 (ipykernel)",
   "language": "python",
   "name": "python3"
  },
  "language_info": {
   "codemirror_mode": {
    "name": "ipython",
    "version": 3
   },
   "file_extension": ".py",
   "mimetype": "text/x-python",
   "name": "python",
   "nbconvert_exporter": "python",
   "pygments_lexer": "ipython3",
   "version": "3.11.4"
  }
 },
 "nbformat": 4,
 "nbformat_minor": 5
}
